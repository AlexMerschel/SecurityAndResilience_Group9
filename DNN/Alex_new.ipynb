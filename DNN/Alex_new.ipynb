{
 "cells": [
  {
   "cell_type": "code",
   "execution_count": 13,
   "metadata": {},
   "outputs": [],
   "source": [
    "#Import relevant packages\n",
    "\n",
    "import os\n",
    "import tensorflow as tf\n",
    "import tensorflow.keras as keras\n",
    "from tensorflow.keras.models import Sequential\n",
    "from tensorflow.keras import optimizers\n",
    "from tensorflow.keras.layers import  Dense, Dropout, Activation, Input, Convolution2D\n",
    "from tensorflow.keras.layers import Conv2D, MaxPooling2D, Flatten\n",
    "# from tensorflow.keras.layers.normalization import BatchNormalization # new!\n",
    "import cv2\n",
    "from skimage.color import rgb2gray\n",
    "from skimage import color\n",
    "from skimage import io\n",
    "import numpy as np\n",
    "import matplotlib.pyplot as plt\n",
    "import csv\n",
    "from sklearn.metrics import classification_report"
   ]
  },
  {
   "cell_type": "code",
   "execution_count": 2,
   "metadata": {},
   "outputs": [],
   "source": [
    "# Function provided by the GTSRB http://benchmark.ini.rub.de/?section=gtsrb&subsection=dataset\n",
    "# function for reading the images\n",
    "# arguments: path to the traffic sign data, for example './GTSRB/Training'\n",
    "# returns: list of images, list of corresponding labels\n",
    "\n",
    "def readTrafficSigns(rootpath):\n",
    "    '''Reads traffic sign data for German Traffic Sign Recognition Benchmark.\n",
    "\n",
    "    Arguments: path to the traffic sign data, for example './GTSRB/Training'\n",
    "    Returns:   list of images, list of corresponding labels'''\n",
    "    images = [] # images\n",
    "    labels = [] # corresponding labels\n",
    "    # loop over all 42 classes\n",
    "    for c in range(0,43):\n",
    "        prefix = rootpath + '/' + format(c, '05d') + '/' # subdirectory for class\n",
    "        gtFile = open(prefix + 'GT-'+ format(c, '05d') + '.csv') # annotations file\n",
    "        gtReader = csv.reader(gtFile, delimiter=';') # csv parser for annotations file\n",
    "        next(gtReader) # skip header\n",
    "        # loop over all images in current annotations file\n",
    "        for row in gtReader:\n",
    "            images.append(plt.imread(prefix + row[0])) # the 1th column is the filename\n",
    "            labels.append(row[7]) # the 8th column is the label\n",
    "        gtFile.close()\n",
    "    return images, labels\n",
    "\n",
    "# Run above function to import images and labels for training\n",
    "trainImages, trainLabels = readTrafficSigns(\"../data/train/GTSRB/Final_Training/Images\")\n"
   ]
  },
  {
   "cell_type": "code",
   "execution_count": 3,
   "metadata": {},
   "outputs": [],
   "source": [
    "# Import test images\n",
    "\n",
    "def readTestData(rootpath):\n",
    "    '''Reads traffic sign data for German Traffic Sign Recognition Benchmark.\n",
    "\n",
    "    Arguments: path to the traffic sign data, for example './GTSRB/Training'\n",
    "    Returns:   list of images, list of corresponding labels'''\n",
    "    images = [] # images\n",
    "    labels = [] # corresponding labels\n",
    "    prefix = rootpath + '/' # subdirectory for class\n",
    "    gtFile = open(prefix + 'GT-final_test.csv') # annotations file\n",
    "    gtReader = csv.reader(gtFile, delimiter=';') # csv parser for annotations file\n",
    "    next(gtReader) # skip header\n",
    "    # loop over all images in current annotations file\n",
    "    for row in gtReader:\n",
    "        images.append(plt.imread(prefix + 'GTSRB/Final_Test/Images/' + row[0])) # the 1th column is the filename\n",
    "        labels.append(row[7]) # the 8th column is the label\n",
    "    gtFile.close()\n",
    "    return images, labels\n",
    "\n",
    "# Run above function to import images and labels for testing\n",
    "testImages, testLabels = readTestData('../data/test')"
   ]
  },
  {
   "cell_type": "code",
   "execution_count": 4,
   "metadata": {},
   "outputs": [],
   "source": [
    "# Process training images\n",
    "final_images=[]\n",
    "dim = (40, 40) \n",
    "for l in range(len(trainImages)):\n",
    "    temp_img = (cv2.resize(trainImages[l], dim))\n",
    "    final_images.append(rgb2gray(temp_img))\n",
    "\n",
    "X = np.array(final_images)\n",
    "Y = np.array(trainLabels).astype(int)\n",
    "X =X.reshape([-1,40, 40,1])"
   ]
  },
  {
   "cell_type": "code",
   "execution_count": 5,
   "metadata": {},
   "outputs": [],
   "source": [
    "# Process testing images\n",
    "final_test_images = []\n",
    "dim = (40, 40)\n",
    "for l in range(len(testImages)):\n",
    "    temp_img = (cv2.resize(testImages[l], dim))\n",
    "    final_test_images.append(rgb2gray(temp_img))\n",
    "    \n",
    "X_test = np.array(final_test_images)\n",
    "Y_test = np.array(testLabels).astype(int)\n",
    "X_test =X_test.reshape([-1,40, 40,1])"
   ]
  },
  {
   "cell_type": "code",
   "execution_count": 6,
   "metadata": {},
   "outputs": [
    {
     "name": "stdout",
     "output_type": "stream",
     "text": [
      "Model: \"sequential\"\n",
      "_________________________________________________________________\n",
      "Layer (type)                 Output Shape              Param #   \n",
      "=================================================================\n",
      "conv2d (Conv2D)              (None, 38, 38, 32)        320       \n",
      "_________________________________________________________________\n",
      "conv2d_1 (Conv2D)            (None, 36, 36, 32)        9248      \n",
      "_________________________________________________________________\n",
      "max_pooling2d (MaxPooling2D) (None, 18, 18, 32)        0         \n",
      "_________________________________________________________________\n",
      "dropout (Dropout)            (None, 18, 18, 32)        0         \n",
      "_________________________________________________________________\n",
      "conv2d_2 (Conv2D)            (None, 18, 18, 64)        18496     \n",
      "_________________________________________________________________\n",
      "conv2d_3 (Conv2D)            (None, 16, 16, 64)        36928     \n",
      "_________________________________________________________________\n",
      "max_pooling2d_1 (MaxPooling2 (None, 8, 8, 64)          0         \n",
      "_________________________________________________________________\n",
      "dropout_1 (Dropout)          (None, 8, 8, 64)          0         \n",
      "_________________________________________________________________\n",
      "dense (Dense)                (None, 8, 8, 32)          2080      \n",
      "_________________________________________________________________\n",
      "conv2d_4 (Conv2D)            (None, 8, 8, 128)         36992     \n",
      "_________________________________________________________________\n",
      "conv2d_5 (Conv2D)            (None, 6, 6, 128)         147584    \n",
      "_________________________________________________________________\n",
      "max_pooling2d_2 (MaxPooling2 (None, 3, 3, 128)         0         \n",
      "_________________________________________________________________\n",
      "dropout_2 (Dropout)          (None, 3, 3, 128)         0         \n",
      "_________________________________________________________________\n",
      "flatten (Flatten)            (None, 1152)              0         \n",
      "_________________________________________________________________\n",
      "dense_1 (Dense)              (None, 512)               590336    \n",
      "_________________________________________________________________\n",
      "dropout_3 (Dropout)          (None, 512)               0         \n",
      "_________________________________________________________________\n",
      "dense_2 (Dense)              (None, 43)                22059     \n",
      "=================================================================\n",
      "Total params: 864,043\n",
      "Trainable params: 864,043\n",
      "Non-trainable params: 0\n",
      "_________________________________________________________________\n"
     ]
    }
   ],
   "source": [
    "# Create a sequential model for the DNN\n",
    "model = Sequential()\n",
    "model.add(tf.keras.layers.Conv2D(32, 3, activation='relu', input_shape=(40,40,1)))\n",
    "\n",
    "model.add(Conv2D(32, (3, 3), activation='relu'))\n",
    "model.add(MaxPooling2D(pool_size=(2, 2)))\n",
    "model.add(Dropout(0.25))\n",
    "\n",
    "model.add(Conv2D(64, (3, 3), padding='same',activation='relu'))\n",
    "model.add(Conv2D(64, (3, 3), activation='relu'))\n",
    "model.add(MaxPooling2D(pool_size=(2, 2)))\n",
    "model.add(Dropout(0.25))\n",
    "\n",
    "model.add(Dense(32))\n",
    "\n",
    "model.add(Conv2D(128, (3, 3), padding='same',activation='relu'))\n",
    "model.add(Conv2D(128, (3, 3), activation='relu'))\n",
    "model.add(MaxPooling2D(pool_size=(2, 2)))\n",
    "model.add(Dropout(0.25))\n",
    "\n",
    "model.add(Flatten())\n",
    "model.add(Dense(512, activation='relu'))\n",
    "model.add(Dropout(0.5))\n",
    "model.add(Dense(43, activation='softmax'))\n",
    "\n",
    "model.compile(loss='sparse_categorical_crossentropy', optimizer='sgd', metrics=['accuracy'])\n",
    "model.summary()"
   ]
  },
  {
   "cell_type": "code",
   "execution_count": 7,
   "metadata": {},
   "outputs": [
    {
     "name": "stdout",
     "output_type": "stream",
     "text": [
      "Train on 39209 samples\n",
      "Epoch 1/15\n",
      "39209/39209 [==============================] - 179s 5ms/sample - loss: 3.5353 - accuracy: 0.0602\n",
      "Epoch 2/15\n",
      "39209/39209 [==============================] - 185s 5ms/sample - loss: 3.3472 - accuracy: 0.1070\n",
      "Epoch 3/15\n",
      "39209/39209 [==============================] - 182s 5ms/sample - loss: 2.1180 - accuracy: 0.4165\n",
      "Epoch 4/15\n",
      "39209/39209 [==============================] - 178s 5ms/sample - loss: 1.0354 - accuracy: 0.6871\n",
      "Epoch 5/15\n",
      "39209/39209 [==============================] - 179s 5ms/sample - loss: 0.6091 - accuracy: 0.8095\n",
      "Epoch 6/15\n",
      "39209/39209 [==============================] - 178s 5ms/sample - loss: 0.4018 - accuracy: 0.8743\n",
      "Epoch 7/15\n",
      "39209/39209 [==============================] - 177s 5ms/sample - loss: 0.2997 - accuracy: 0.9048\n",
      "Epoch 8/15\n",
      "39209/39209 [==============================] - 178s 5ms/sample - loss: 0.2386 - accuracy: 0.9239\n",
      "Epoch 9/15\n",
      "39209/39209 [==============================] - 178s 5ms/sample - loss: 0.1933 - accuracy: 0.9392\n",
      "Epoch 10/15\n",
      "39209/39209 [==============================] - 176s 4ms/sample - loss: 0.1642 - accuracy: 0.9481\n",
      "Epoch 11/15\n",
      "39209/39209 [==============================] - 176s 4ms/sample - loss: 0.1428 - accuracy: 0.9554\n",
      "Epoch 12/15\n",
      "39209/39209 [==============================] - 176s 4ms/sample - loss: 0.1215 - accuracy: 0.9612\n",
      "Epoch 13/15\n",
      "39209/39209 [==============================] - 175s 4ms/sample - loss: 0.1072 - accuracy: 0.9664\n",
      "Epoch 14/15\n",
      "39209/39209 [==============================] - 3146s 80ms/sample - loss: 0.0969 - accuracy: 0.9693\n",
      "Epoch 15/15\n",
      "39209/39209 [==============================] - 180s 5ms/sample - loss: 0.0852 - accuracy: 0.9725\n"
     ]
    },
    {
     "data": {
      "text/plain": [
       "<tensorflow.python.keras.callbacks.History at 0x23c0916ad68>"
      ]
     },
     "execution_count": 7,
     "metadata": {},
     "output_type": "execute_result"
    }
   ],
   "source": [
    "# Train the model on the training data\n",
    "model.fit(X, Y,epochs=15,verbose=1)"
   ]
  },
  {
   "cell_type": "code",
   "execution_count": 8,
   "metadata": {},
   "outputs": [
    {
     "name": "stdout",
     "output_type": "stream",
     "text": [
      "12630/12630 [==============================] - 14s 1ms/sample - loss: 0.2070 - accuracy: 0.9546\n"
     ]
    },
    {
     "data": {
      "text/plain": [
       "[0.20704611994610747, 0.9546318]"
      ]
     },
     "execution_count": 8,
     "metadata": {},
     "output_type": "execute_result"
    }
   ],
   "source": [
    "# Evaluate the model on the testing data\n",
    "model.evaluate(X_test, Y_test)"
   ]
  },
  {
   "cell_type": "code",
   "execution_count": 9,
   "metadata": {},
   "outputs": [],
   "source": [
    "# Save the model for future use\n",
    "model.save(\"./resources/Model.h5\")"
   ]
  },
  {
   "cell_type": "code",
   "execution_count": 10,
   "metadata": {},
   "outputs": [],
   "source": [
    "# Load the model in future use\n",
    "model = tf.keras.models.load_model(\"./resources/Model.h5\")"
   ]
  },
  {
   "cell_type": "code",
   "execution_count": 11,
   "metadata": {},
   "outputs": [],
   "source": [
    "# Function to test the model on a set of manipulated images\n",
    "# argument: Type of manipulated images to test on\n",
    "# following options for the argument:\n",
    "# - Blur\n",
    "# - Distort\n",
    "# - OnePixel\n",
    "# - Ripple\n",
    "# - Rotate\n",
    "# - saltNppr\n",
    "def testModelOnManipulatedImages(type):\n",
    "    TempImages = []\n",
    "    Images = []\n",
    "    Labels = []\n",
    "    dim = (40,40)\n",
    "    path = '../data/GTSRB_test_manipulated/' + type\n",
    "    for file in os.listdir(path):\n",
    "        TempImages.append(plt.imread(path + '/' + file))\n",
    "        Labels.append(int(file[:2]))\n",
    "    for x in range(len(TempImages)):\n",
    "        tempImg = (cv2.resize(TempImages[x], dim))\n",
    "        Images.append(rgb2gray(tempImg))\n",
    "    Images = np.array(Images).reshape([-1,40,40,1])\n",
    "    # show one image as an example\n",
    "    plt.imshow(Images[0].reshape(40,40))\n",
    "    y_pred = model.predict(Images, verbose=1)\n",
    "    pred_argmax = np.argmax(y_pred, axis=1)\n",
    "    print(classification_report(Labels, pred_argmax))"
   ]
  },
  {
   "cell_type": "code",
   "execution_count": 14,
   "metadata": {},
   "outputs": [
    {
     "name": "stdout",
     "output_type": "stream",
     "text": [
      "12630/12630 [==============================] - 21s 2ms/sample\n",
      "              precision    recall  f1-score   support\n",
      "\n",
      "           0       1.00      0.27      0.42        60\n",
      "           1       0.87      0.83      0.85       720\n",
      "           2       0.92      0.73      0.82       750\n",
      "           3       0.47      0.86      0.61       450\n",
      "           4       0.88      0.71      0.79       660\n",
      "           5       0.66      0.47      0.55       630\n",
      "           6       0.99      0.74      0.85       150\n",
      "           7       0.97      0.60      0.74       450\n",
      "           8       0.77      0.61      0.68       450\n",
      "           9       0.96      0.83      0.89       480\n",
      "          10       0.98      0.75      0.85       660\n",
      "          11       0.90      0.78      0.84       420\n",
      "          12       0.76      0.92      0.83       690\n",
      "          13       0.81      0.99      0.89       720\n",
      "          14       1.00      0.86      0.92       270\n",
      "          15       0.25      0.99      0.40       210\n",
      "          16       0.99      0.93      0.96       150\n",
      "          17       1.00      0.86      0.92       360\n",
      "          18       0.83      0.65      0.73       390\n",
      "          19       0.75      0.92      0.83        60\n",
      "          20       0.83      0.84      0.84        90\n",
      "          21       0.92      0.64      0.76        90\n",
      "          22       0.65      0.90      0.75       120\n",
      "          23       0.97      0.51      0.67       150\n",
      "          24       0.88      0.73      0.80        90\n",
      "          25       0.92      0.86      0.89       480\n",
      "          26       0.45      0.97      0.61       180\n",
      "          27       0.60      0.30      0.40        60\n",
      "          28       0.95      0.73      0.83       150\n",
      "          29       0.92      0.63      0.75        90\n",
      "          30       0.41      0.67      0.51       150\n",
      "          31       0.98      0.80      0.88       270\n",
      "          32       0.77      0.93      0.84        60\n",
      "          33       0.88      0.98      0.93       210\n",
      "          34       0.88      0.99      0.93       120\n",
      "          35       0.96      0.89      0.93       390\n",
      "          36       0.99      0.93      0.96       120\n",
      "          37       1.00      0.72      0.83        60\n",
      "          38       0.96      0.91      0.94       690\n",
      "          39       0.79      0.96      0.86        90\n",
      "          40       0.87      0.61      0.72        90\n",
      "          41       0.82      0.62      0.70        60\n",
      "          42       1.00      0.82      0.90        90\n",
      "\n",
      "    accuracy                           0.79     12630\n",
      "   macro avg       0.84      0.77      0.78     12630\n",
      "weighted avg       0.85      0.79      0.80     12630\n",
      "\n"
     ]
    },
    {
     "data": {
      "image/png": "[encoded data removed]",
      "text/plain": [
       "<Figure size 432x288 with 1 Axes>"
      ]
     },
     "metadata": {
      "needs_background": "light"
     },
     "output_type": "display_data"
    }
   ],
   "source": [
    "testModelOnManipulatedImages('Blur')"
   ]
  },
  {
   "cell_type": "code",
   "execution_count": 15,
   "metadata": {},
   "outputs": [
    {
     "name": "stdout",
     "output_type": "stream",
     "text": [
      "12630/12630 [==============================] - 13s 1ms/sample\n",
      "              precision    recall  f1-score   support\n",
      "\n",
      "           0       0.58      0.75      0.65        60\n",
      "           1       0.83      0.88      0.85       720\n",
      "           2       0.89      0.77      0.83       750\n",
      "           3       0.81      0.88      0.85       450\n",
      "           4       0.83      0.86      0.85       660\n",
      "           5       0.85      0.71      0.77       630\n",
      "           6       0.87      0.79      0.83       150\n",
      "           7       0.67      0.83      0.74       450\n",
      "           8       0.75      0.86      0.80       450\n",
      "           9       0.94      0.97      0.95       480\n",
      "          10       0.98      0.92      0.95       660\n",
      "          11       0.82      0.87      0.85       420\n",
      "          12       0.95      0.98      0.97       690\n",
      "          13       0.99      0.99      0.99       720\n",
      "          14       0.99      0.91      0.95       270\n",
      "          15       0.88      0.93      0.91       210\n",
      "          16       0.90      0.99      0.95       150\n",
      "          17       0.97      0.99      0.98       360\n",
      "          18       0.92      0.73      0.82       390\n",
      "          19       0.78      0.97      0.87        60\n",
      "          20       0.74      0.87      0.80        90\n",
      "          21       0.84      0.68      0.75        90\n",
      "          22       0.88      0.70      0.78       120\n",
      "          23       0.84      0.76      0.80       150\n",
      "          24       0.81      0.83      0.82        90\n",
      "          25       0.92      0.89      0.90       480\n",
      "          26       0.71      0.81      0.76       180\n",
      "          27       0.32      0.30      0.31        60\n",
      "          28       0.84      0.85      0.84       150\n",
      "          29       0.86      0.92      0.89        90\n",
      "          30       0.58      0.73      0.65       150\n",
      "          31       0.92      0.91      0.92       270\n",
      "          32       0.94      0.57      0.71        60\n",
      "          33       0.85      0.99      0.92       210\n",
      "          34       0.85      0.99      0.92       120\n",
      "          35       0.97      0.88      0.93       390\n",
      "          36       0.94      0.97      0.95       120\n",
      "          37       0.98      0.87      0.92        60\n",
      "          38       0.97      0.94      0.96       690\n",
      "          39       0.96      0.96      0.96        90\n",
      "          40       0.82      0.73      0.78        90\n",
      "          41       1.00      0.68      0.81        60\n",
      "          42       0.94      0.93      0.94        90\n",
      "\n",
      "    accuracy                           0.87     12630\n",
      "   macro avg       0.85      0.85      0.84     12630\n",
      "weighted avg       0.88      0.87      0.87     12630\n",
      "\n"
     ]
    },
    {
     "data": {
      "image/png": "[encoded data removed]",
      "text/plain": [
       "<Figure size 432x288 with 1 Axes>"
      ]
     },
     "metadata": {
      "needs_background": "light"
     },
     "output_type": "display_data"
    }
   ],
   "source": [
    "testModelOnManipulatedImages('Distort')"
   ]
  },
  {
   "cell_type": "code",
   "execution_count": 16,
   "metadata": {},
   "outputs": [
    {
     "name": "stdout",
     "output_type": "stream",
     "text": [
      "12630/12630 [==============================] - 13s 1ms/sample\n",
      "              precision    recall  f1-score   support\n",
      "\n",
      "           0       0.95      0.93      0.94        60\n",
      "           1       0.92      0.99      0.96       720\n",
      "           2       0.94      0.98      0.96       750\n",
      "           3       0.92      0.95      0.94       450\n",
      "           4       0.97      0.94      0.96       660\n",
      "           5       0.93      0.93      0.93       630\n",
      "           6       1.00      0.91      0.95       150\n",
      "           7       0.96      0.95      0.96       450\n",
      "           8       0.97      0.99      0.98       450\n",
      "           9       0.97      0.98      0.98       480\n",
      "          10       0.99      0.98      0.98       660\n",
      "          11       0.93      0.94      0.93       420\n",
      "          12       0.97      0.99      0.98       690\n",
      "          13       1.00      1.00      1.00       720\n",
      "          14       1.00      0.89      0.94       270\n",
      "          15       0.98      0.98      0.98       210\n",
      "          16       0.99      1.00      1.00       150\n",
      "          17       1.00      1.00      1.00       360\n",
      "          18       0.98      0.85      0.91       390\n",
      "          19       0.94      0.97      0.95        60\n",
      "          20       0.95      0.99      0.97        90\n",
      "          21       0.91      0.76      0.82        90\n",
      "          22       0.98      0.89      0.93       120\n",
      "          23       0.96      0.80      0.87       150\n",
      "          24       0.92      0.94      0.93        90\n",
      "          25       0.93      0.90      0.92       480\n",
      "          26       0.81      0.98      0.89       180\n",
      "          27       0.64      0.48      0.55        60\n",
      "          28       0.99      0.91      0.95       150\n",
      "          29       0.98      1.00      0.99        90\n",
      "          30       0.68      0.87      0.76       150\n",
      "          31       0.95      0.99      0.97       270\n",
      "          32       0.97      1.00      0.98        60\n",
      "          33       0.92      0.99      0.95       210\n",
      "          34       0.92      0.99      0.95       120\n",
      "          35       0.99      0.95      0.97       390\n",
      "          36       0.98      0.99      0.98       120\n",
      "          37       0.95      0.98      0.97        60\n",
      "          38       0.97      0.97      0.97       690\n",
      "          39       0.98      0.96      0.97        90\n",
      "          40       0.88      0.76      0.81        90\n",
      "          41       1.00      0.75      0.86        60\n",
      "          42       1.00      0.99      0.99        90\n",
      "\n",
      "    accuracy                           0.95     12630\n",
      "   macro avg       0.94      0.93      0.93     12630\n",
      "weighted avg       0.95      0.95      0.95     12630\n",
      "\n"
     ]
    },
    {
     "data": {
      "image/png": "[encoded data removed]",
      "text/plain": [
       "<Figure size 432x288 with 1 Axes>"
      ]
     },
     "metadata": {
      "needs_background": "light"
     },
     "output_type": "display_data"
    }
   ],
   "source": [
    "testModelOnManipulatedImages('OnePixel')"
   ]
  },
  {
   "cell_type": "code",
   "execution_count": 17,
   "metadata": {},
   "outputs": [
    {
     "name": "stdout",
     "output_type": "stream",
     "text": [
      "12630/12630 [==============================] - 13s 1ms/sample\n",
      "              precision    recall  f1-score   support\n",
      "\n",
      "           0       0.00      0.00      0.00        60\n",
      "           1       0.06      0.04      0.05       720\n",
      "           2       0.20      0.08      0.11       750\n",
      "           3       0.02      0.01      0.01       450\n",
      "           4       0.03      0.00      0.01       660\n",
      "           5       0.11      0.02      0.03       630\n",
      "           6       0.07      0.01      0.01       150\n",
      "           7       0.14      0.12      0.13       450\n",
      "           8       0.32      0.07      0.11       450\n",
      "           9       0.08      0.05      0.06       480\n",
      "          10       0.40      0.04      0.07       660\n",
      "          11       0.05      0.02      0.03       420\n",
      "          12       0.18      0.15      0.16       690\n",
      "          13       0.07      0.18      0.10       720\n",
      "          14       0.15      0.04      0.06       270\n",
      "          15       0.15      0.03      0.05       210\n",
      "          16       0.00      0.00      0.00       150\n",
      "          17       0.03      0.18      0.05       360\n",
      "          18       0.26      0.04      0.06       390\n",
      "          19       0.00      0.00      0.00        60\n",
      "          20       0.04      0.02      0.03        90\n",
      "          21       0.00      0.00      0.00        90\n",
      "          22       0.00      0.00      0.00       120\n",
      "          23       0.02      0.01      0.01       150\n",
      "          24       0.36      0.10      0.16        90\n",
      "          25       0.16      0.06      0.09       480\n",
      "          26       0.00      0.00      0.00       180\n",
      "          27       0.00      0.00      0.00        60\n",
      "          28       0.03      0.07      0.04       150\n",
      "          29       0.01      0.02      0.02        90\n",
      "          30       0.02      0.01      0.01       150\n",
      "          31       0.75      0.06      0.10       270\n",
      "          32       0.00      0.00      0.00        60\n",
      "          33       0.01      0.01      0.01       210\n",
      "          34       0.01      0.07      0.01       120\n",
      "          35       0.01      0.02      0.01       390\n",
      "          36       0.00      0.00      0.00       120\n",
      "          37       0.00      0.05      0.01        60\n",
      "          38       0.05      0.04      0.05       690\n",
      "          39       0.00      0.00      0.00        90\n",
      "          40       0.00      0.00      0.00        90\n",
      "          41       0.00      0.00      0.00        60\n",
      "          42       0.00      0.00      0.00        90\n",
      "\n",
      "    accuracy                           0.06     12630\n",
      "   macro avg       0.09      0.04      0.04     12630\n",
      "weighted avg       0.12      0.06      0.06     12630\n",
      "\n"
     ]
    },
    {
     "data": {
      "image/png": "[encoded data removed]",
      "text/plain": [
       "<Figure size 432x288 with 1 Axes>"
      ]
     },
     "metadata": {
      "needs_background": "light"
     },
     "output_type": "display_data"
    }
   ],
   "source": [
    "testModelOnManipulatedImages('Ripple')"
   ]
  },
  {
   "cell_type": "code",
   "execution_count": 18,
   "metadata": {},
   "outputs": [
    {
     "name": "stdout",
     "output_type": "stream",
     "text": [
      "12630/12630 [==============================] - 13s 1ms/sample\n",
      "              precision    recall  f1-score   support\n",
      "\n",
      "           0       1.00      0.77      0.87        60\n",
      "           1       0.86      0.85      0.85       720\n",
      "           2       0.76      0.91      0.83       750\n",
      "           3       0.71      0.97      0.82       450\n",
      "           4       0.98      0.71      0.83       660\n",
      "           5       0.92      0.77      0.84       630\n",
      "           6       1.00      0.62      0.77       150\n",
      "           7       0.89      0.87      0.88       450\n",
      "           8       0.90      0.89      0.90       450\n",
      "           9       0.70      0.93      0.80       480\n",
      "          10       0.88      0.70      0.78       660\n",
      "          11       0.89      0.84      0.86       420\n",
      "          12       0.86      0.97      0.91       690\n",
      "          13       0.98      0.99      0.98       720\n",
      "          14       0.96      0.79      0.87       270\n",
      "          15       0.91      0.99      0.95       210\n",
      "          16       0.95      0.99      0.97       150\n",
      "          17       0.86      0.90      0.88       360\n",
      "          18       0.99      0.70      0.82       390\n",
      "          19       0.74      0.80      0.77        60\n",
      "          20       0.60      0.81      0.69        90\n",
      "          21       0.96      0.50      0.66        90\n",
      "          22       0.94      0.87      0.90       120\n",
      "          23       0.81      0.86      0.83       150\n",
      "          24       0.93      0.44      0.60        90\n",
      "          25       0.79      0.91      0.85       480\n",
      "          26       0.71      0.81      0.76       180\n",
      "          27       0.83      0.42      0.56        60\n",
      "          28       0.90      0.91      0.90       150\n",
      "          29       0.71      1.00      0.83        90\n",
      "          30       0.63      0.66      0.64       150\n",
      "          31       0.98      0.90      0.94       270\n",
      "          32       0.65      0.50      0.57        60\n",
      "          33       0.74      0.95      0.83       210\n",
      "          34       0.85      0.99      0.92       120\n",
      "          35       0.97      0.89      0.93       390\n",
      "          36       0.73      0.89      0.80       120\n",
      "          37       0.94      0.97      0.95        60\n",
      "          38       0.94      0.88      0.91       690\n",
      "          39       1.00      0.93      0.97        90\n",
      "          40       0.64      0.83      0.72        90\n",
      "          41       0.43      0.92      0.59        60\n",
      "          42       0.42      0.19      0.26        90\n",
      "\n",
      "    accuracy                           0.85     12630\n",
      "   macro avg       0.83      0.81      0.81     12630\n",
      "weighted avg       0.86      0.85      0.85     12630\n",
      "\n"
     ]
    },
    {
     "data": {
      "image/png": "[encoded data removed]",
      "text/plain": [
       "<Figure size 432x288 with 1 Axes>"
      ]
     },
     "metadata": {
      "needs_background": "light"
     },
     "output_type": "display_data"
    }
   ],
   "source": [
    "testModelOnManipulatedImages('Rotate')"
   ]
  },
  {
   "cell_type": "code",
   "execution_count": 19,
   "metadata": {},
   "outputs": [
    {
     "name": "stdout",
     "output_type": "stream",
     "text": [
      "12630/12630 [==============================] - 13s 1ms/sample\n",
      "              precision    recall  f1-score   support\n",
      "\n",
      "           0       0.28      0.62      0.39        60\n",
      "           1       0.49      0.87      0.63       720\n",
      "           2       0.56      0.67      0.61       750\n",
      "           3       0.60      0.38      0.47       450\n",
      "           4       0.63      0.33      0.43       660\n",
      "           5       0.66      0.41      0.51       630\n",
      "           6       0.69      0.27      0.38       150\n",
      "           7       0.67      0.35      0.46       450\n",
      "           8       0.52      0.37      0.43       450\n",
      "           9       0.74      0.72      0.73       480\n",
      "          10       0.79      0.46      0.58       660\n",
      "          11       0.72      0.84      0.77       420\n",
      "          12       0.63      0.78      0.70       690\n",
      "          13       0.91      0.94      0.92       720\n",
      "          14       0.89      0.76      0.82       270\n",
      "          15       0.89      0.73      0.80       210\n",
      "          16       0.77      0.75      0.76       150\n",
      "          17       0.81      0.94      0.87       360\n",
      "          18       0.79      0.48      0.60       390\n",
      "          19       0.76      0.47      0.58        60\n",
      "          20       0.56      0.87      0.68        90\n",
      "          21       0.69      0.68      0.68        90\n",
      "          22       0.84      0.81      0.83       120\n",
      "          23       0.63      0.54      0.58       150\n",
      "          24       0.39      0.34      0.36        90\n",
      "          25       0.65      0.89      0.75       480\n",
      "          26       0.52      0.87      0.65       180\n",
      "          27       0.39      0.35      0.37        60\n",
      "          28       0.62      0.81      0.70       150\n",
      "          29       0.66      0.82      0.73        90\n",
      "          30       0.30      0.23      0.26       150\n",
      "          31       0.77      0.49      0.60       270\n",
      "          32       0.70      0.35      0.47        60\n",
      "          33       0.71      0.96      0.82       210\n",
      "          34       0.74      0.94      0.83       120\n",
      "          35       0.81      0.61      0.70       390\n",
      "          36       0.77      0.95      0.85       120\n",
      "          37       0.56      0.78      0.65        60\n",
      "          38       0.73      0.82      0.77       690\n",
      "          39       0.69      0.67      0.68        90\n",
      "          40       0.16      0.69      0.25        90\n",
      "          41       0.57      0.65      0.61        60\n",
      "          42       0.88      0.47      0.61        90\n",
      "\n",
      "    accuracy                           0.65     12630\n",
      "   macro avg       0.65      0.64      0.63     12630\n",
      "weighted avg       0.68      0.65      0.64     12630\n",
      "\n"
     ]
    },
    {
     "data": {
      "image/png": "[encoded data removed]",
      "text/plain": [
       "<Figure size 432x288 with 1 Axes>"
      ]
     },
     "metadata": {
      "needs_background": "light"
     },
     "output_type": "display_data"
    }
   ],
   "source": [
    "testModelOnManipulatedImages('saltNppr')"
   ]
  },
  {
   "cell_type": "code",
   "execution_count": 20,
   "metadata": {},
   "outputs": [],
   "source": [
    "def readyImage(path):\n",
    "    image = plt.imread(path)\n",
    "    image = cv2.resize(image, dim)\n",
    "    image = rgb2gray(image)\n",
    "    plt.imshow(image, cmap='gray')\n",
    "    image = image.reshape(-1, 40, 40, 1)\n",
    "    return image"
   ]
  },
  {
   "cell_type": "code",
   "execution_count": 21,
   "metadata": {},
   "outputs": [],
   "source": [
    "# Set labels for further reference\n",
    "labels = ['Speed limit (20)']\n",
    "labels.append('Speed limit (30)')\n",
    "labels.append('Speed limit (50)')\n",
    "labels.append('Speed limit (60)')\n",
    "labels.append('Speed limit (70)')\n",
    "labels.append('Speed limit (80)')\n",
    "labels.append('End of speed limit (80)')\n",
    "labels.append('Speed limit (100)')\n",
    "labels.append('Speed limit (120)')\n",
    "labels.append('No passing')\n",
    "labels.append('No passing for vehicles over 3.5 tons')\n",
    "labels.append('Right-of-way at the next intersection')\n",
    "labels.append('Priority road')\n",
    "labels.append('Yield')\n",
    "labels.append('Stop')\n",
    "labels.append('No vehicles')\n",
    "labels.append('Vehicles over 3.5 tons prohibited')\n",
    "labels.append('No entry - one way')\n",
    "labels.append('General Caution')\n",
    "labels.append('Dangerous curve to the left')\n",
    "labels.append('Dangerous curve to the right')\n",
    "labels.append('Double curve')\n",
    "labels.append('Bumpy road')\n",
    "labels.append('Slippery road')\n",
    "labels.append('Road narrows on the right')\n",
    "labels.append('Road work')\n",
    "labels.append('Traffic signals')\n",
    "labels.append('Pedestrians')\n",
    "labels.append('Children crossing')\n",
    "labels.append('Bicycles crossing')\n",
    "labels.append('Beware of ice/snow')\n",
    "labels.append('Wild animals crossing')\n",
    "labels.append('End of all speed and passing limits')\n",
    "labels.append('Turn right ahead')\n",
    "labels.append('Turn left ahead')\n",
    "labels.append('Ahead only')\n",
    "labels.append('Go straight or right')\n",
    "labels.append('Go straight or left')\n",
    "labels.append('Keep right')\n",
    "labels.append('Keep left')\n",
    "labels.append('Roundabout mandatory')\n",
    "labels.append('End of no passing')\n",
    "labels.append('End of no passing by vehicles over 3.5 tons')"
   ]
  },
  {
   "cell_type": "code",
   "execution_count": 22,
   "metadata": {},
   "outputs": [],
   "source": [
    "# Add set of manipulated images to the training data for a new model\n",
    "tmpNewImages = []\n",
    "tmpNewLabels = []\n",
    "\n",
    "rootpath = '../data/manipulated_train'\n",
    "for folder in os.listdir(rootpath):\n",
    "    path = rootpath + '/'  + folder\n",
    "    for file in os.listdir(path):\n",
    "        tmpNewImages.append(plt.imread(path + '/' + file))\n",
    "        tmpNewLabels.append(int(file[:2]))\n",
    "\n",
    "\n",
    "finalNewImages=[]\n",
    "dim = (40, 40) \n",
    "for l in range(len(tmpNewImages)):\n",
    "    temp_img = (cv2.resize(tmpNewImages[l], dim))\n",
    "    finalNewImages.append(rgb2gray(temp_img))\n",
    "\n",
    "    \n",
    "X_new = np.array(finalNewImages)\n",
    "Y_new = np.array(tmpNewLabels)\n",
    "X_new =X_new.reshape([-1,40, 40,1])\n",
    "Y_new =Y_new.astype(int)\n",
    "Y_new.dtype\n",
    "    \n",
    "\n",
    "newTrainImages = np.concatenate((X, X_new))\n",
    "newTrainLabels = np.concatenate((Y, Y_new))"
   ]
  },
  {
   "cell_type": "code",
   "execution_count": 23,
   "metadata": {},
   "outputs": [
    {
     "name": "stdout",
     "output_type": "stream",
     "text": [
      "Model: \"sequential_1\"\n",
      "_________________________________________________________________\n",
      "Layer (type)                 Output Shape              Param #   \n",
      "=================================================================\n",
      "conv2d_6 (Conv2D)            (None, 38, 38, 32)        320       \n",
      "_________________________________________________________________\n",
      "conv2d_7 (Conv2D)            (None, 36, 36, 32)        9248      \n",
      "_________________________________________________________________\n",
      "max_pooling2d_3 (MaxPooling2 (None, 18, 18, 32)        0         \n",
      "_________________________________________________________________\n",
      "dropout_4 (Dropout)          (None, 18, 18, 32)        0         \n",
      "_________________________________________________________________\n",
      "conv2d_8 (Conv2D)            (None, 18, 18, 64)        18496     \n",
      "_________________________________________________________________\n",
      "conv2d_9 (Conv2D)            (None, 16, 16, 64)        36928     \n",
      "_________________________________________________________________\n",
      "max_pooling2d_4 (MaxPooling2 (None, 8, 8, 64)          0         \n",
      "_________________________________________________________________\n",
      "dropout_5 (Dropout)          (None, 8, 8, 64)          0         \n",
      "_________________________________________________________________\n",
      "dense_3 (Dense)              (None, 8, 8, 32)          2080      \n",
      "_________________________________________________________________\n",
      "conv2d_10 (Conv2D)           (None, 8, 8, 128)         36992     \n",
      "_________________________________________________________________\n",
      "conv2d_11 (Conv2D)           (None, 6, 6, 128)         147584    \n",
      "_________________________________________________________________\n",
      "max_pooling2d_5 (MaxPooling2 (None, 3, 3, 128)         0         \n",
      "_________________________________________________________________\n",
      "dropout_6 (Dropout)          (None, 3, 3, 128)         0         \n",
      "_________________________________________________________________\n",
      "flatten_1 (Flatten)          (None, 1152)              0         \n",
      "_________________________________________________________________\n",
      "dense_4 (Dense)              (None, 512)               590336    \n",
      "_________________________________________________________________\n",
      "dropout_7 (Dropout)          (None, 512)               0         \n",
      "_________________________________________________________________\n",
      "dense_5 (Dense)              (None, 43)                22059     \n",
      "=================================================================\n",
      "Total params: 864,043\n",
      "Trainable params: 864,043\n",
      "Non-trainable params: 0\n",
      "_________________________________________________________________\n"
     ]
    }
   ],
   "source": [
    "# Create a new model, identical to the prior model\n",
    "model_new = Sequential()\n",
    "model_new.add(tf.keras.layers.Conv2D(32, 3, activation='relu', input_shape=(40,40,1)))\n",
    "\n",
    "model_new.add(Conv2D(32, (3, 3), activation='relu'))\n",
    "model_new.add(MaxPooling2D(pool_size=(2, 2)))\n",
    "model_new.add(Dropout(0.25))\n",
    "\n",
    "model_new.add(Conv2D(64, (3, 3), padding='same',activation='relu'))\n",
    "model_new.add(Conv2D(64, (3, 3), activation='relu'))\n",
    "model_new.add(MaxPooling2D(pool_size=(2, 2)))\n",
    "model_new.add(Dropout(0.25))\n",
    "\n",
    "model_new.add(Dense(32))\n",
    "\n",
    "model_new.add(Conv2D(128, (3, 3), padding='same',activation='relu'))\n",
    "model_new.add(Conv2D(128, (3, 3), activation='relu'))\n",
    "model_new.add(MaxPooling2D(pool_size=(2, 2)))\n",
    "model_new.add(Dropout(0.25))\n",
    "\n",
    "model_new.add(Flatten())\n",
    "model_new.add(Dense(512, activation='relu'))\n",
    "model_new.add(Dropout(0.5))\n",
    "model_new.add(Dense(43, activation='softmax'))\n",
    "\n",
    "model_new.compile(loss='sparse_categorical_crossentropy', optimizer='sgd', metrics=['accuracy'])\n",
    "model_new.summary()"
   ]
  },
  {
   "cell_type": "code",
   "execution_count": 24,
   "metadata": {},
   "outputs": [
    {
     "name": "stdout",
     "output_type": "stream",
     "text": [
      "Train on 86465 samples\n",
      "Epoch 1/15\n",
      "86465/86465 [==============================] - 419s 5ms/sample - loss: 3.5394 - accuracy: 0.0551\n",
      "Epoch 2/15\n",
      "86465/86465 [==============================] - 404s 5ms/sample - loss: 3.5016 - accuracy: 0.0554\n",
      "Epoch 3/15\n",
      "86465/86465 [==============================] - 402s 5ms/sample - loss: 3.4625 - accuracy: 0.0712\n",
      "Epoch 4/15\n",
      "86465/86465 [==============================] - 401s 5ms/sample - loss: 3.2654 - accuracy: 0.1272\n",
      "Epoch 5/15\n",
      "86465/86465 [==============================] - 396s 5ms/sample - loss: 1.9628 - accuracy: 0.4422\n",
      "Epoch 6/15\n",
      "86465/86465 [==============================] - 393s 5ms/sample - loss: 1.0068 - accuracy: 0.6968\n",
      "Epoch 7/15\n",
      "86465/86465 [==============================] - 5813s 67ms/sample - loss: 0.6849 - accuracy: 0.7905\n",
      "Epoch 8/15\n",
      "86465/86465 [==============================] - 431s 5ms/sample - loss: 0.5155 - accuracy: 0.8414\n",
      "Epoch 9/15\n",
      "86465/86465 [==============================] - 393s 5ms/sample - loss: 0.4171 - accuracy: 0.8719\n",
      "Epoch 10/15\n",
      "86465/86465 [==============================] - 392s 5ms/sample - loss: 0.3471 - accuracy: 0.8934\n",
      "Epoch 11/15\n",
      "86465/86465 [==============================] - 395s 5ms/sample - loss: 0.2897 - accuracy: 0.9105\n",
      "Epoch 12/15\n",
      "86465/86465 [==============================] - 393s 5ms/sample - loss: 0.2529 - accuracy: 0.9214\n",
      "Epoch 13/15\n",
      "86465/86465 [==============================] - 393s 5ms/sample - loss: 0.2221 - accuracy: 0.9312\n",
      "Epoch 14/15\n",
      "86465/86465 [==============================] - 18823s 218ms/sample - loss: 0.2011 - accuracy: 0.9387\n",
      "Epoch 15/15\n",
      "86465/86465 [==============================] - 404s 5ms/sample - loss: 0.1773 - accuracy: 0.9454\n"
     ]
    },
    {
     "data": {
      "text/plain": [
       "<tensorflow.python.keras.callbacks.History at 0x23cb362f588>"
      ]
     },
     "execution_count": 24,
     "metadata": {},
     "output_type": "execute_result"
    }
   ],
   "source": [
    "# Train said model on the new training set including manipulated images\n",
    "model_new.fit(newTrainImages, newTrainLabels,epochs=15,verbose=1)"
   ]
  },
  {
   "cell_type": "code",
   "execution_count": 25,
   "metadata": {},
   "outputs": [
    {
     "name": "stdout",
     "output_type": "stream",
     "text": [
      "12630/12630 [==============================] - 15s 1ms/sample - loss: 0.1651 - accuracy: 0.9563\n"
     ]
    },
    {
     "data": {
      "text/plain": [
       "[0.16510977250857903, 0.95629454]"
      ]
     },
     "execution_count": 25,
     "metadata": {},
     "output_type": "execute_result"
    }
   ],
   "source": [
    "# Evaluate the new model on the original test data\n",
    "model_new.evaluate(X_test, Y_test)"
   ]
  },
  {
   "cell_type": "code",
   "execution_count": 26,
   "metadata": {},
   "outputs": [],
   "source": [
    "# Save model for future use\n",
    "model_new.save(\"./resources/Model_New.h5\")"
   ]
  },
  {
   "cell_type": "code",
   "execution_count": 27,
   "metadata": {},
   "outputs": [],
   "source": [
    "# Load model\n",
    "model_new = tf.keras.models.load_model(\"./resources/Model_New.h5\")"
   ]
  },
  {
   "cell_type": "code",
   "execution_count": 28,
   "metadata": {},
   "outputs": [],
   "source": [
    "# Function to test the new model on a set of manipulated images\n",
    "# argument: Type of manipulated images to test on\n",
    "# following options for the argument:\n",
    "# - Blur\n",
    "# - Distort\n",
    "# - OnePixel\n",
    "# - Ripple\n",
    "# - Rotate\n",
    "# - saltNppr\n",
    "def testNewModelOnManipulatedImages(type):\n",
    "    TempImages = []\n",
    "    Images = []\n",
    "    Labels = []\n",
    "    dim = (40,40)\n",
    "    path = '../data/GTSRB_test_manipulated/' + type\n",
    "    for file in os.listdir(path):\n",
    "        TempImages.append(plt.imread(path + '/' + file))\n",
    "        Labels.append(int(file[:2]))\n",
    "    for x in range(len(TempImages)):\n",
    "        tempImg = (cv2.resize(TempImages[x], dim))\n",
    "        Images.append(rgb2gray(tempImg))\n",
    "    Images = np.array(Images).reshape([-1,40,40,1])\n",
    "    # show one image as an example\n",
    "    plt.imshow(Images[0].reshape(40,40))\n",
    "    y_pred = model_new.predict(Images, verbose=1)\n",
    "    pred_argmax = np.argmax(y_pred, axis=1)\n",
    "    print(classification_report(Labels, pred_argmax))"
   ]
  },
  {
   "cell_type": "code",
   "execution_count": 29,
   "metadata": {},
   "outputs": [
    {
     "name": "stdout",
     "output_type": "stream",
     "text": [
      "12630/12630 [==============================] - 15s 1ms/sample\n",
      "              precision    recall  f1-score   support\n",
      "\n",
      "           0       1.00      0.22      0.36        60\n",
      "           1       0.91      0.75      0.82       720\n",
      "           2       0.85      0.71      0.77       750\n",
      "           3       0.62      0.58      0.60       450\n",
      "           4       0.86      0.64      0.73       660\n",
      "           5       0.73      0.56      0.63       630\n",
      "           6       0.95      0.63      0.76       150\n",
      "           7       0.93      0.53      0.67       450\n",
      "           8       0.66      0.62      0.64       450\n",
      "           9       0.77      0.87      0.81       480\n",
      "          10       0.93      0.81      0.86       660\n",
      "          11       0.98      0.87      0.92       420\n",
      "          12       0.66      0.91      0.77       690\n",
      "          13       0.91      0.99      0.95       720\n",
      "          14       0.97      0.85      0.91       270\n",
      "          15       0.20      0.98      0.33       210\n",
      "          16       1.00      0.91      0.95       150\n",
      "          17       0.95      0.82      0.88       360\n",
      "          18       0.75      0.65      0.70       390\n",
      "          19       0.79      0.62      0.69        60\n",
      "          20       0.72      0.92      0.81        90\n",
      "          21       0.84      0.84      0.84        90\n",
      "          22       0.68      0.79      0.73       120\n",
      "          23       0.91      0.71      0.79       150\n",
      "          24       0.94      0.76      0.84        90\n",
      "          25       0.86      0.92      0.89       480\n",
      "          26       0.57      0.81      0.67       180\n",
      "          27       0.77      0.33      0.47        60\n",
      "          28       0.98      0.77      0.87       150\n",
      "          29       0.82      0.88      0.85        90\n",
      "          30       0.63      0.59      0.61       150\n",
      "          31       0.72      0.89      0.80       270\n",
      "          32       0.64      0.90      0.75        60\n",
      "          33       0.92      0.90      0.91       210\n",
      "          34       0.83      0.90      0.86       120\n",
      "          35       0.90      0.92      0.91       390\n",
      "          36       0.95      0.88      0.92       120\n",
      "          37       0.92      0.73      0.81        60\n",
      "          38       0.93      0.85      0.89       690\n",
      "          39       0.96      0.94      0.95        90\n",
      "          40       0.93      0.56      0.69        90\n",
      "          41       0.55      0.63      0.59        60\n",
      "          42       0.98      0.53      0.69        90\n",
      "\n",
      "    accuracy                           0.77     12630\n",
      "   macro avg       0.82      0.76      0.77     12630\n",
      "weighted avg       0.83      0.77      0.79     12630\n",
      "\n"
     ]
    },
    {
     "data": {
      "image/png": "[encoded data removed]",
      "text/plain": [
       "<Figure size 432x288 with 1 Axes>"
      ]
     },
     "metadata": {
      "needs_background": "light"
     },
     "output_type": "display_data"
    }
   ],
   "source": [
    "testNewModelOnManipulatedImages('Blur')"
   ]
  },
  {
   "cell_type": "code",
   "execution_count": 30,
   "metadata": {},
   "outputs": [
    {
     "name": "stdout",
     "output_type": "stream",
     "text": [
      "12630/12630 [==============================] - 14s 1ms/sample\n",
      "              precision    recall  f1-score   support\n",
      "\n",
      "           0       0.70      0.55      0.62        60\n",
      "           1       0.91      0.88      0.89       720\n",
      "           2       0.90      0.86      0.88       750\n",
      "           3       0.84      0.86      0.85       450\n",
      "           4       0.87      0.88      0.88       660\n",
      "           5       0.83      0.74      0.78       630\n",
      "           6       0.90      0.77      0.83       150\n",
      "           7       0.78      0.80      0.79       450\n",
      "           8       0.73      0.83      0.77       450\n",
      "           9       0.86      0.99      0.92       480\n",
      "          10       0.98      0.92      0.95       660\n",
      "          11       0.93      0.89      0.91       420\n",
      "          12       0.96      0.98      0.97       690\n",
      "          13       1.00      1.00      1.00       720\n",
      "          14       0.97      0.97      0.97       270\n",
      "          15       0.83      0.92      0.88       210\n",
      "          16       0.82      0.92      0.87       150\n",
      "          17       0.99      0.99      0.99       360\n",
      "          18       0.83      0.78      0.80       390\n",
      "          19       0.85      0.95      0.90        60\n",
      "          20       0.72      0.83      0.77        90\n",
      "          21       0.87      0.87      0.87        90\n",
      "          22       0.80      0.86      0.83       120\n",
      "          23       0.81      0.89      0.85       150\n",
      "          24       0.88      0.86      0.87        90\n",
      "          25       0.86      0.94      0.90       480\n",
      "          26       0.73      0.72      0.73       180\n",
      "          27       0.65      0.62      0.63        60\n",
      "          28       0.90      0.89      0.89       150\n",
      "          29       0.71      0.93      0.81        90\n",
      "          30       0.68      0.65      0.66       150\n",
      "          31       0.85      0.96      0.90       270\n",
      "          32       0.97      0.63      0.77        60\n",
      "          33       0.94      0.94      0.94       210\n",
      "          34       0.86      0.98      0.91       120\n",
      "          35       0.98      0.95      0.96       390\n",
      "          36       0.99      0.97      0.98       120\n",
      "          37       0.96      0.85      0.90        60\n",
      "          38       0.98      0.93      0.96       690\n",
      "          39       0.98      0.94      0.96        90\n",
      "          40       0.93      0.78      0.85        90\n",
      "          41       0.77      0.77      0.77        60\n",
      "          42       0.87      0.68      0.76        90\n",
      "\n",
      "    accuracy                           0.89     12630\n",
      "   macro avg       0.86      0.86      0.86     12630\n",
      "weighted avg       0.89      0.89      0.89     12630\n",
      "\n"
     ]
    },
    {
     "data": {
      "image/png": "[encoded data removed]",
      "text/plain": [
       "<Figure size 432x288 with 1 Axes>"
      ]
     },
     "metadata": {
      "needs_background": "light"
     },
     "output_type": "display_data"
    }
   ],
   "source": [
    "testNewModelOnManipulatedImages('Distort')"
   ]
  },
  {
   "cell_type": "code",
   "execution_count": 31,
   "metadata": {},
   "outputs": [
    {
     "name": "stdout",
     "output_type": "stream",
     "text": [
      "12630/12630 [==============================] - 13s 1ms/sample\n",
      "              precision    recall  f1-score   support\n",
      "\n",
      "           0       0.89      0.78      0.83        60\n",
      "           1       0.97      0.98      0.98       720\n",
      "           2       0.98      0.98      0.98       750\n",
      "           3       0.90      0.92      0.91       450\n",
      "           4       0.97      0.97      0.97       660\n",
      "           5       0.92      0.95      0.94       630\n",
      "           6       1.00      0.78      0.88       150\n",
      "           7       0.97      0.93      0.95       450\n",
      "           8       0.96      0.97      0.96       450\n",
      "           9       0.98      1.00      0.99       480\n",
      "          10       0.99      0.98      0.98       660\n",
      "          11       0.97      1.00      0.98       420\n",
      "          12       0.96      0.99      0.97       690\n",
      "          13       1.00      1.00      1.00       720\n",
      "          14       0.97      0.97      0.97       270\n",
      "          15       0.96      0.98      0.97       210\n",
      "          16       1.00      0.99      1.00       150\n",
      "          17       0.99      0.96      0.97       360\n",
      "          18       0.86      0.82      0.84       390\n",
      "          19       0.89      0.98      0.94        60\n",
      "          20       0.93      1.00      0.96        90\n",
      "          21       0.88      0.93      0.91        90\n",
      "          22       0.93      0.88      0.90       120\n",
      "          23       0.92      0.94      0.93       150\n",
      "          24       0.98      0.93      0.95        90\n",
      "          25       0.92      0.96      0.94       480\n",
      "          26       0.82      0.82      0.82       180\n",
      "          27       0.80      0.73      0.77        60\n",
      "          28       0.98      0.97      0.97       150\n",
      "          29       0.94      0.99      0.96        90\n",
      "          30       0.84      0.73      0.78       150\n",
      "          31       0.92      0.99      0.95       270\n",
      "          32       0.91      0.97      0.94        60\n",
      "          33       0.96      0.99      0.97       210\n",
      "          34       0.90      1.00      0.94       120\n",
      "          35       0.98      0.98      0.98       390\n",
      "          36       0.99      0.98      0.99       120\n",
      "          37       0.95      0.95      0.95        60\n",
      "          38       0.99      0.96      0.97       690\n",
      "          39       0.99      0.94      0.97        90\n",
      "          40       0.95      0.79      0.86        90\n",
      "          41       0.66      0.83      0.74        60\n",
      "          42       0.88      0.72      0.79        90\n",
      "\n",
      "    accuracy                           0.95     12630\n",
      "   macro avg       0.93      0.93      0.93     12630\n",
      "weighted avg       0.95      0.95      0.95     12630\n",
      "\n"
     ]
    },
    {
     "data": {
      "image/png": "[encoded data removed]",
      "text/plain": [
       "<Figure size 432x288 with 1 Axes>"
      ]
     },
     "metadata": {
      "needs_background": "light"
     },
     "output_type": "display_data"
    }
   ],
   "source": [
    "testNewModelOnManipulatedImages('OnePixel')"
   ]
  },
  {
   "cell_type": "code",
   "execution_count": 32,
   "metadata": {},
   "outputs": [
    {
     "name": "stdout",
     "output_type": "stream",
     "text": [
      "12630/12630 [==============================] - 13s 1ms/sample\n",
      "              precision    recall  f1-score   support\n",
      "\n",
      "           0       0.53      0.15      0.23        60\n",
      "           1       0.71      0.54      0.62       720\n",
      "           2       0.74      0.50      0.60       750\n",
      "           3       0.52      0.13      0.21       450\n",
      "           4       0.64      0.45      0.53       660\n",
      "           5       0.41      0.50      0.45       630\n",
      "           6       0.45      0.09      0.15       150\n",
      "           7       0.58      0.30      0.39       450\n",
      "           8       0.20      0.41      0.26       450\n",
      "           9       0.43      0.55      0.49       480\n",
      "          10       0.63      0.66      0.64       660\n",
      "          11       0.46      0.28      0.35       420\n",
      "          12       0.59      0.62      0.61       690\n",
      "          13       0.51      0.88      0.65       720\n",
      "          14       0.69      0.54      0.61       270\n",
      "          15       0.56      0.73      0.63       210\n",
      "          16       0.83      0.29      0.43       150\n",
      "          17       0.52      0.56      0.54       360\n",
      "          18       0.69      0.44      0.54       390\n",
      "          19       0.19      0.08      0.12        60\n",
      "          20       0.33      0.66      0.44        90\n",
      "          21       0.28      0.30      0.29        90\n",
      "          22       0.48      0.47      0.47       120\n",
      "          23       0.34      0.13      0.18       150\n",
      "          24       0.11      0.21      0.15        90\n",
      "          25       0.42      0.77      0.54       480\n",
      "          26       0.16      0.26      0.20       180\n",
      "          27       0.08      0.08      0.08        60\n",
      "          28       0.36      0.25      0.30       150\n",
      "          29       0.22      0.20      0.21        90\n",
      "          30       0.19      0.30      0.23       150\n",
      "          31       0.41      0.67      0.51       270\n",
      "          32       0.67      0.43      0.53        60\n",
      "          33       0.66      0.72      0.69       210\n",
      "          34       0.64      0.60      0.62       120\n",
      "          35       0.88      0.64      0.74       390\n",
      "          36       0.70      0.42      0.52       120\n",
      "          37       0.40      0.42      0.41        60\n",
      "          38       0.82      0.61      0.70       690\n",
      "          39       0.34      0.53      0.41        90\n",
      "          40       0.11      0.09      0.10        90\n",
      "          41       0.09      0.05      0.07        60\n",
      "          42       0.39      0.14      0.21        90\n",
      "\n",
      "    accuracy                           0.50     12630\n",
      "   macro avg       0.46      0.41      0.41     12630\n",
      "weighted avg       0.55      0.50      0.50     12630\n",
      "\n"
     ]
    },
    {
     "data": {
      "image/png": "[encoded data removed]",
      "text/plain": [
       "<Figure size 432x288 with 1 Axes>"
      ]
     },
     "metadata": {
      "needs_background": "light"
     },
     "output_type": "display_data"
    }
   ],
   "source": [
    "testNewModelOnManipulatedImages('Ripple')"
   ]
  },
  {
   "cell_type": "code",
   "execution_count": 33,
   "metadata": {},
   "outputs": [
    {
     "name": "stdout",
     "output_type": "stream",
     "text": [
      "12630/12630 [==============================] - 13s 1ms/sample\n",
      "              precision    recall  f1-score   support\n",
      "\n",
      "           0       0.89      0.40      0.55        60\n",
      "           1       0.92      0.87      0.90       720\n",
      "           2       0.85      0.95      0.90       750\n",
      "           3       0.79      0.95      0.86       450\n",
      "           4       0.97      0.88      0.92       660\n",
      "           5       0.85      0.86      0.86       630\n",
      "           6       0.97      0.57      0.72       150\n",
      "           7       0.97      0.74      0.84       450\n",
      "           8       0.82      0.90      0.85       450\n",
      "           9       0.95      0.94      0.94       480\n",
      "          10       0.98      0.95      0.97       660\n",
      "          11       0.96      0.94      0.95       420\n",
      "          12       0.91      0.99      0.95       690\n",
      "          13       0.98      0.98      0.98       720\n",
      "          14       0.85      0.95      0.90       270\n",
      "          15       0.87      0.99      0.93       210\n",
      "          16       0.90      0.99      0.94       150\n",
      "          17       0.98      0.88      0.93       360\n",
      "          18       0.77      0.78      0.77       390\n",
      "          19       0.89      0.93      0.91        60\n",
      "          20       0.55      0.97      0.70        90\n",
      "          21       0.75      0.74      0.75        90\n",
      "          22       0.98      0.80      0.88       120\n",
      "          23       0.83      0.92      0.87       150\n",
      "          24       0.88      0.66      0.75        90\n",
      "          25       0.79      0.99      0.88       480\n",
      "          26       0.73      0.68      0.70       180\n",
      "          27       0.86      0.32      0.46        60\n",
      "          28       0.99      0.87      0.93       150\n",
      "          29       0.88      0.96      0.91        90\n",
      "          30       0.92      0.60      0.73       150\n",
      "          31       0.99      0.89      0.93       270\n",
      "          32       0.77      0.50      0.61        60\n",
      "          33       0.94      0.84      0.88       210\n",
      "          34       0.91      1.00      0.95       120\n",
      "          35       0.90      0.94      0.92       390\n",
      "          36       0.81      0.88      0.84       120\n",
      "          37       0.96      0.87      0.91        60\n",
      "          38       0.93      0.91      0.92       690\n",
      "          39       0.98      0.96      0.97        90\n",
      "          40       0.86      0.78      0.82        90\n",
      "          41       0.44      0.92      0.59        60\n",
      "          42       0.96      0.50      0.66        90\n",
      "\n",
      "    accuracy                           0.89     12630\n",
      "   macro avg       0.88      0.84      0.84     12630\n",
      "weighted avg       0.90      0.89      0.89     12630\n",
      "\n"
     ]
    },
    {
     "data": {
      "image/png": "[encoded data removed]",
      "text/plain": [
       "<Figure size 432x288 with 1 Axes>"
      ]
     },
     "metadata": {
      "needs_background": "light"
     },
     "output_type": "display_data"
    }
   ],
   "source": [
    "testNewModelOnManipulatedImages('Rotate')"
   ]
  },
  {
   "cell_type": "code",
   "execution_count": 34,
   "metadata": {},
   "outputs": [
    {
     "name": "stdout",
     "output_type": "stream",
     "text": [
      "12630/12630 [==============================] - 14s 1ms/sample\n",
      "              precision    recall  f1-score   support\n",
      "\n",
      "           0       0.73      0.40      0.52        60\n",
      "           1       0.78      0.81      0.80       720\n",
      "           2       0.71      0.73      0.72       750\n",
      "           3       0.45      0.62      0.52       450\n",
      "           4       0.69      0.57      0.62       660\n",
      "           5       0.60      0.54      0.57       630\n",
      "           6       0.82      0.47      0.60       150\n",
      "           7       0.69      0.42      0.53       450\n",
      "           8       0.44      0.54      0.48       450\n",
      "           9       0.84      0.83      0.83       480\n",
      "          10       0.92      0.64      0.76       660\n",
      "          11       0.88      0.88      0.88       420\n",
      "          12       0.69      0.92      0.79       690\n",
      "          13       0.92      0.98      0.95       720\n",
      "          14       0.79      0.90      0.84       270\n",
      "          15       0.79      0.84      0.81       210\n",
      "          16       0.96      0.86      0.91       150\n",
      "          17       0.98      0.82      0.90       360\n",
      "          18       0.76      0.55      0.64       390\n",
      "          19       0.66      0.45      0.53        60\n",
      "          20       0.64      0.88      0.74        90\n",
      "          21       0.77      0.81      0.79        90\n",
      "          22       0.88      0.82      0.85       120\n",
      "          23       0.74      0.64      0.69       150\n",
      "          24       0.66      0.50      0.57        90\n",
      "          25       0.70      0.96      0.81       480\n",
      "          26       0.60      0.79      0.69       180\n",
      "          27       0.52      0.48      0.50        60\n",
      "          28       0.78      0.78      0.78       150\n",
      "          29       0.69      0.88      0.77        90\n",
      "          30       0.40      0.29      0.34       150\n",
      "          31       0.74      0.67      0.70       270\n",
      "          32       0.57      0.75      0.65        60\n",
      "          33       0.84      0.93      0.89       210\n",
      "          34       0.78      0.94      0.86       120\n",
      "          35       0.83      0.79      0.81       390\n",
      "          36       0.87      0.97      0.92       120\n",
      "          37       0.82      0.77      0.79        60\n",
      "          38       0.88      0.86      0.87       690\n",
      "          39       0.77      0.71      0.74        90\n",
      "          40       0.58      0.62      0.60        90\n",
      "          41       0.48      0.58      0.53        60\n",
      "          42       0.90      0.49      0.63        90\n",
      "\n",
      "    accuracy                           0.74     12630\n",
      "   macro avg       0.73      0.71      0.71     12630\n",
      "weighted avg       0.75      0.74      0.74     12630\n",
      "\n"
     ]
    },
    {
     "data": {
      "image/png": "[encoded data removed]",
      "text/plain": [
       "<Figure size 432x288 with 1 Axes>"
      ]
     },
     "metadata": {
      "needs_background": "light"
     },
     "output_type": "display_data"
    }
   ],
   "source": [
    "testNewModelOnManipulatedImages('saltNppr')"
   ]
  }
 ],
 "metadata": {
  "kernelspec": {
   "display_name": "Python 3",
   "language": "python",
   "name": "python3"
  },
  "language_info": {
   "codemirror_mode": {
    "name": "ipython",
    "version": 3
   },
   "file_extension": ".py",
   "mimetype": "text/x-python",
   "name": "python",
   "nbconvert_exporter": "python",
   "pygments_lexer": "ipython3",
   "version": "3.7.0"
  }
 },
 "nbformat": 4,
 "nbformat_minor": 4
}
